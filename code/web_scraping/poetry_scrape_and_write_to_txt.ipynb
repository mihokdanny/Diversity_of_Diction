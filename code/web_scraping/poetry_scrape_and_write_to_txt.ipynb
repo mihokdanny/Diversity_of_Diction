{
 "cells": [
  {
   "cell_type": "code",
   "execution_count": 1,
   "metadata": {},
   "outputs": [],
   "source": [
    "# from collections import Counter\n",
    "import re\n",
    "import numpy as np\n",
    "import pandas as pd\n",
    "import nltk\n",
    "import requests\n",
    "from bs4 import BeautifulSoup\n",
    "import urllib.request"
   ]
  },
  {
   "cell_type": "code",
   "execution_count": 28,
   "metadata": {},
   "outputs": [],
   "source": [
    "\n",
    "\n",
    "# import urllib.request\n",
    "\n",
    "with urllib.request.urlopen(\"http://famouspoetsandpoems.com/poets/shel_silverstein/poems/14819\") as url:\n",
    "\n",
    "# page = urllib.urlopen(\"http://famouspoetsandpoems.com/poets/maya_angelou/poems/492\").read()\n",
    "    page = url.read()\n",
    "# soup = BeautifulSoup(page, \"html.parser\")\n",
    "soup = BeautifulSoup(page, \"html.parser\")\n",
    "for tableItem in soup.find_all('div', style=\"padding-left:14px;padding-top:20px;font-family:Arial;font-size:13px;\"):\n",
    "    soup = tableItem.get_text(separator=' ', strip=True)\n",
    "soup_text = str(soup)\n"
   ]
  },
  {
   "cell_type": "code",
   "execution_count": 29,
   "metadata": {},
   "outputs": [
    {
     "data": {
      "text/plain": [
       "str"
      ]
     },
     "execution_count": 29,
     "metadata": {},
     "output_type": "execute_result"
    }
   ],
   "source": [
    "type(soup_text)"
   ]
  },
  {
   "cell_type": "code",
   "execution_count": 30,
   "metadata": {},
   "outputs": [
    {
     "name": "stdout",
     "output_type": "stream",
     "text": [
      "Last night, while I lay thinking here, some Whatifs crawled inside my ear and pranced and partied all night long and sang their same old Whatif song: Whatif I'm dumb in school? Whatif they've closed the swimming pool? Whatif I get beat up? Whatif there's poison in my cup? Whatif I start to cry? Whatif I get sick and die? Whatif I flunk that test? Whatif green hair grows on my chest? Whatif nobody likes me? Whatif a bolt of lightning strikes me? Whatif I don't grow talle? Whatif my head starts getting smaller? Whatif the fish won't bite? Whatif the wind tears up my kite? Whatif they start a war? Whatif my parents get divorced? Whatif the bus is late? Whatif my teeth don't grow in straight? Whatif I tear my pants? Whatif I never learn to dance? Everything seems well, and then the nighttime Whatifs strike again!\n"
     ]
    }
   ],
   "source": [
    "print(soup_text)"
   ]
  },
  {
   "cell_type": "code",
   "execution_count": 31,
   "metadata": {},
   "outputs": [],
   "source": [
    "Poet2_Poem1 = open(\"Poet2_Poem1.txt\",\"w\")\n",
    "Poet2_Poem1.write(soup_text) \n",
    "# file1.writelines(L) \n",
    "Poet2_Poem1.close() #to change file access modes "
   ]
  }
 ],
 "metadata": {
  "kernelspec": {
   "display_name": "Python 3",
   "language": "python",
   "name": "python3"
  },
  "language_info": {
   "codemirror_mode": {
    "name": "ipython",
    "version": 3
   },
   "file_extension": ".py",
   "mimetype": "text/x-python",
   "name": "python",
   "nbconvert_exporter": "python",
   "pygments_lexer": "ipython3",
   "version": "3.7.1"
  }
 },
 "nbformat": 4,
 "nbformat_minor": 2
}
