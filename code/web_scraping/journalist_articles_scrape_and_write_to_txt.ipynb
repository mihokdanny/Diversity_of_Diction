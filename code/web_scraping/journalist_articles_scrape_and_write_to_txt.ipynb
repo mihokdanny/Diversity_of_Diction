{
 "cells": [
  {
   "cell_type": "code",
   "execution_count": 139,
   "metadata": {},
   "outputs": [],
   "source": [
    "# Dependencies\n",
    "from bs4 import BeautifulSoup as soup\n",
    "import requests\n",
    "import os\n",
    "import pandas as pd\n",
    "import pymongo\n",
    "from urllib.request import urlopen as Ureq"
   ]
  },
  {
   "cell_type": "code",
   "execution_count": 140,
   "metadata": {},
   "outputs": [
    {
     "data": {
      "text/plain": [
       "'https://www.nytimes.com/2003/12/21/us/a-trench-caves-in-a-young-worker-is-dead-is-it-a-crime.html'"
      ]
     },
     "execution_count": 140,
     "metadata": {},
     "output_type": "execute_result"
    }
   ],
   "source": [
    "# article by David Barstow, NY Times\n",
    "url = \"https://www.nytimes.com/2003/12/21/us/a-trench-caves-in-a-young-worker-is-dead-is-it-a-crime.html\"\n",
    "url"
   ]
  },
  {
   "cell_type": "code",
   "execution_count": 141,
   "metadata": {},
   "outputs": [],
   "source": [
    "#Open connection and Read the web page into a file\n",
    "Uclient = Ureq(url)\n",
    "DBarstow_article1_html = Uclient.read()\n",
    "Uclient.close()"
   ]
  },
  {
   "cell_type": "code",
   "execution_count": 142,
   "metadata": {},
   "outputs": [],
   "source": [
    "#Apply BeautifulSoup to html\n",
    "DBarstow_1_soup = soup(DBarstow_article1_html)"
   ]
  },
  {
   "cell_type": "code",
   "execution_count": 146,
   "metadata": {},
   "outputs": [
    {
     "data": {
      "text/plain": [
       "<h1 class=\"headline\" id=\"headline\" itemprop=\"headline\">A Trench Caves In; a Young Worker Is Dead. Is It a Crime?</h1>"
      ]
     },
     "execution_count": 146,
     "metadata": {},
     "output_type": "execute_result"
    }
   ],
   "source": [
    "#confirm the desired web page was pulled in\n",
    "DBarstow_1_soup.h1"
   ]
  },
  {
   "cell_type": "code",
   "execution_count": 98,
   "metadata": {},
   "outputs": [
    {
     "data": {
      "text/plain": [
       "<h1 class=\"headline\" id=\"headline\" itemprop=\"headline\">A Trench Caves In; a Young Worker Is Dead. Is It a Crime?</h1>"
      ]
     },
     "execution_count": 98,
     "metadata": {},
     "output_type": "execute_result"
    }
   ],
   "source": [
    "#Confirm correct page was read and parsed\n",
    "DBarstow_1_soup.h1"
   ]
  },
  {
   "cell_type": "code",
   "execution_count": 160,
   "metadata": {},
   "outputs": [
    {
     "data": {
      "text/plain": [
       "bs4.BeautifulSoup"
      ]
     },
     "execution_count": 160,
     "metadata": {},
     "output_type": "execute_result"
    }
   ],
   "source": [
    "type(DBarstow_1_soup)"
   ]
  },
  {
   "cell_type": "code",
   "execution_count": 162,
   "metadata": {},
   "outputs": [
    {
     "data": {
      "text/plain": [
       "\"As the autopsy confirmed, death did not come right away for Patrick M. Walters. On June 14, 2002, while working on a sewer pipe in a trench 10 feet deep, he was buried alive under a rush of collapsing muck and mud. A husky plumber's apprentice, barely 22 years old, Mr. Walters clawed for the surface. Sludge filled his throat. Thousands of pounds of dirt pressed on his chest, squeezing and squeezing until he could not draw another breath.\""
      ]
     },
     "execution_count": 162,
     "metadata": {},
     "output_type": "execute_result"
    }
   ],
   "source": [
    "#find the paragraphs with class = \"story-body-text story-content\" \n",
    "#to pull only paragraphs with article content\n",
    "#Strip the tags and print only text\n",
    "DBarstow1_p = [p.getText() for p in DBarstow_1_soup.findAll(\"p\", {\"class\": \"story-body-text story-content\"})]\n",
    "DBarstow1_p[0]"
   ]
  },
  {
   "cell_type": "code",
   "execution_count": 163,
   "metadata": {},
   "outputs": [
    {
     "data": {
      "text/plain": [
       "list"
      ]
     },
     "execution_count": 163,
     "metadata": {},
     "output_type": "execute_result"
    }
   ],
   "source": [
    "type(DBarstow1_p)"
   ]
  },
  {
   "cell_type": "code",
   "execution_count": 153,
   "metadata": {},
   "outputs": [
    {
     "data": {
      "text/plain": [
       "217"
      ]
     },
     "execution_count": 153,
     "metadata": {},
     "output_type": "execute_result"
    }
   ],
   "source": [
    "#Convert to a python string\n",
    "DBarstow1_l = []\n",
    "for x in DBarstow1_p:\n",
    "    DBarstow1_l.append(str(x))\n",
    "\n",
    "len(DBarstow1_l)"
   ]
  },
  {
   "cell_type": "code",
   "execution_count": 154,
   "metadata": {},
   "outputs": [
    {
     "data": {
      "text/plain": [
       "list"
      ]
     },
     "execution_count": 154,
     "metadata": {},
     "output_type": "execute_result"
    }
   ],
   "source": [
    "type(DBarstow1_l)"
   ]
  },
  {
   "cell_type": "code",
   "execution_count": 156,
   "metadata": {},
   "outputs": [
    {
     "name": "stdout",
     "output_type": "stream",
     "text": [
      "As the autopsy confirmed, death did not come right away for Patrick M. Walters. On June 14, 2002, while working on a sewer pipe in a trench 10 feet deep, he was buried alive under a rush of collapsing muck and mud. A husky plumber's apprentice, barely 22 years old, Mr. Walters clawed for the surface. Sludge filled his throat. Thousands of pounds of dirt pressed on his chest, squeezing and squeezing until he could not draw another breath.\n"
     ]
    }
   ],
   "source": [
    "print(DBarstow1_l[0])"
   ]
  },
  {
   "cell_type": "code",
   "execution_count": 164,
   "metadata": {},
   "outputs": [],
   "source": [
    "#create and write to DBarstow1, the first DBarstow article to be parsed.\n",
    "outF = open(\"DBarstow1.txt\", \"w\")\n",
    "for line in DBarstow1_l:\n",
    "  # write line to output file\n",
    "  outF.write(line)\n",
    "  outF.write(\"\\n\")\n",
    "outF.close()\n"
   ]
  },
  {
   "cell_type": "code",
   "execution_count": 159,
   "metadata": {},
   "outputs": [
    {
     "data": {
      "text/plain": [
       "[\"As the autopsy confirmed, death did not come right away for Patrick M. Walters. On June 14, 2002, while working on a sewer pipe in a trench 10 feet deep, he was buried alive under a rush of collapsing muck and mud. A husky plumber's apprentice, barely 22 years old, Mr. Walters clawed for the surface. Sludge filled his throat. Thousands of pounds of dirt pressed on his chest, squeezing and squeezing until he could not draw another breath.\",\n",
       " 'His mother, Michelle Marts, was the first in his family to hear.',\n",
       " \"''You just stand there like you're suspended in blank space,'' she said of that moment. She remembers being enveloped by a paralyzing numbness. He was her only child. She could not hear or breathe or move. Was this, she found herself wondering, what Patrick felt?\",\n",
       " \"She called Patrick's father, her ex-husband, Jeff. ''It literally knocked me off my feet,'' he said. ''I lay there, right there on the floor, screaming and crying.''\",\n",
       " \"Mrs. Marts next called Patrick's wife, Crystal. ''I remember running upstairs and just hugging my kid and thinking, 'How am I going to tell her,' '' Ms. Walters said.\",\n",
       " \"Soon after, an investigator from the coroner's office called Mrs. Marts. He could not have been nicer. Such a tragedy, he said. But by then, the first insistent questions had begun to form. Her son had often spoken about his fear of being buried alive. He had described being sent into deep trenches without safety equipment, like the large metal boxes placed in excavations to create a sheltered workspace.\",\n",
       " \"''Was there a trench box?'' she asked the investigator. He paused, she recalled. ''He says, 'Ma'am, no safety procedures were followed. None.'\",\n",
       " \"''He was just so disgusted.''\",\n",
       " \"Other officials shared his disgust, starting with the federal safety investigator who stood over the trench that night as Patrick Walters's body was pulled from the mud. Only two weeks before, the same investigator had caught men from the same company -- Moeves Plumbing -- working unprotected in a 15-foot-deep trench, a blatant violation of federal safety laws.\",\n",
       " 'One of the men was Patrick Walters, who, when questioned by the investigator, had described a host of unsafe work practices.',\n",
       " \"''They don't like me on these jobs a lot,'' Mr. Walters had volunteered, according to a tape recording of the interview.\",\n",
       " \"''Why is that?''\",\n",
       " \"''Because, I don't like getting in the holes -- even with a box.''\",\n",
       " \"The inspector's boss, the federal Occupational Safety and Health Administration's top official in Cincinnati, was angry too. He knew Moeves Plumbing well. In 1989, he had confronted the company over another death. The circumstances were nearly identical: a deep trench, no box, a man buried alive.\",\n",
       " \"But their professional disgust could not touch the pure rage of Patrick Walters's parents. A veteran plumber himself, Jeff Walters knew the treachery of trench walls. Moeves Plumbing would deny any wrongdoing and tell OSHA it was trying to do the right thing on safety. But to Jeff Walters, sending an untrained, unskilled apprentice into an unprotected, unstable, rain-saturated, 10-foot-deep trench was flat-out criminal.\",\n",
       " \"''You done killed my boy!'' he recalls screaming that night on the phone to Moeves Plumbing.\",\n",
       " 'His first instinct was revenge by shotgun. His wife and members of his church intervened. They prayed and wept, and then they resolved to seek their justice from the authorities instead.',\n",
       " 'The entire family mobilized around this goal. Over the next six months, they gathered records, interviewed witnesses and learned all they could about OSHA. Blue collar and self-reliant, they did not expect much from government. Indeed, their research turned up plenty of unflattering descriptions of OSHA. Inept. Timid. Overmatched. Jeff Walters knew OSHA as the guys who would sweat the small stuff -- show up at a job site and write up a $5,000 fine for a frayed power cord.',\n",
       " 'Even so, year after year, grieving families across America depend on OSHA to stand for them, and for their dead. Surely, the Walters family reasoned, if OSHA had any purpose at all it was to keep employers from repeatedly killing workers by flouting safety rules.',\n",
       " \"It is a federal crime for an employer to cause a worker's death by willfully violating safety laws. To initiate a prosecution, OSHA must first refer the case to the Department of Justice. Yet, even in the very worst cases, that is something the agency does only a small fraction of the time.\",\n",
       " 'To the Walters family, though, it seemed like such a small thing to ask for -- a simple request from one bureaucracy to another to take a look, consider the evidence and decide whether to prosecute. That was it.',\n",
       " \"''It looked like an open-and-shut case,'' Mrs. Marts said. ''No box. Put down in a hole. Buried alive.''\",\n",
       " 'An Apprentice Looking to Please',\n",
       " 'There was still mud in his ears.',\n",
       " 'Patrick Walters was laid out in his coffin for the visitation, his face puffy and bruised, his ears still flecked with dried bits of clay. They all noticed.',\n",
       " \"''Mom, can I put this in with Dad?'' Crystal Walters's 4-year-old daughter, Christen, asked, holding up one of her drawings.\",\n",
       " \"Patrick Walters was not Christen's father, but he had raised her as his own. Young, financially pressed and prone to quarrel, Patrick and Crystal Walters had married in 2000; they were separated at the time of his death, but still trying. ''I loved him,'' Ms. Walters, 22, said. ''Still do.''\",\n",
       " 'Looking at him there that day, Ms. Walters found the whole thing incomprehensible, she said. With his linebacker build and nonstop motor, her husband had seemed so indestructible.',\n",
       " \"But it was dangerous work, and he had known it. He told his mother of being buried to his waist in one trench. He told his father of being lowered into trenches on the bucket of a backhoe, leaving him no ladder to escape a collapse. ''I just ask God never to let me die that way,'' he said to his wife.\",\n",
       " \"His family urged him to put up a fuss. But he pointed out that he was only an apprentice, easily replaced. If he was seen as a troublemaker, he worried, his bosses would find an excuse to get rid of him. Their attitude, he told his father, was ''either do it or go home.''\",\n",
       " \"And in truth, he did not have many better alternatives. His troubles in school had begun when he was 10, the same year his parents' marriage broke up. By 16, he was running afoul of the law. An episode involving stolen guns and then a police chase resulted in a stretch in juvenile detention.\",\n",
       " \"''The best thing that ever happened to him,'' his father said.\",\n",
       " 'Still, an arrest record and a G.E.D. earned him only dead-end temporary jobs in factories. He cleaned animal cages. Whatever the dangers, he saw Moeves Plumbing as his big break.',\n",
       " \"Small and family owned, about 50 employees, Moeves (pronounced MAY-vis) had agreed to pay for his four-year apprentice program. That would mean a plumber's license and $25 an hour and a decent middle-class life for him and Crystal and Christen.\",\n",
       " \"''He was looking at Moeves like this is my road, my way forward,'' his father said. There was even talk of them one day forming Walters & Son Plumbing.\",\n",
       " 'It was a hard road for $8.50 an hour. But he stuck with it. He put in hard days on the job, then went to school three nights a week. School records show that he missed only three classes. His grades were good.',\n",
       " \"''A miracle,'' his mother said.\",\n",
       " 'His father saw a boy becoming a man.',\n",
       " 'The Physics of the Trench',\n",
       " 'On May 31, 2002, a local fire chief called the Cincinnati OSHA office to complain that men were installing a storm drain in an unsafe trench. Charles Shelton, a veteran OSHA compliance officer, was at the scene in less than an hour.',\n",
       " 'Every trench is a potential death trap. Trench walls give way at any time, often without warning. The deeper the trench the greater the risk, which is magnified further if the soil is loose or wet. Hundreds are killed or injured in trenches each year.',\n",
       " \"That is why federal safety laws require employers to take special precautions for trenches deeper than five feet. The walls must be sloped back at a safe angle or shored up with bracing. If a trench box is used instead, it must be big and sturdy enough to withstand the tremendous forces of a collapse. A ''competent person'' -- someone trained in excavation safety -- must inspect the trench before work begins and then daily thereafter.\",\n",
       " 'From a parking lot, Mr. Shelton watched the workers from Moeves Plumbing. One was Patrick Walters. Mr. Shelton approached with a video camera. The trench, about 15 feet deep, was neither sloped nor shored. There was a box, but it was far too small -- only eight feet tall -- to be effective. And Mr. Shelton had seen men working outside even that undersize shelter.',\n",
       " \"He shut the job down on a Friday afternoon. On Monday, at 9:22 a.m., he turned on his tape recorder to interview Patrick Walters. ''Employees were working in an excavation that was unprotected,'' Mr. Shelton began, ''and I've got this young man, he was exposed to the trench.''\",\n",
       " 'His voice was noticeably nervous, but Patrick Walters described a company that did not follow the basic requirements of trench safety. He told of supervisors who tolerated dangerous shortcuts and made little effort to enforce safety rules.',\n",
       " 'Mr. Shelton asked about safety meetings.',\n",
       " \"''We've had a couple,'' Mr. Walters said. ''They don't do it regularly anymore.'' He then volunteered that the company no longer had a safety manager.\",\n",
       " \"''How long has he been gone?''\",\n",
       " \"''I can't remember. It's been a while since we had one.''\",\n",
       " 'It had been more than three months.',\n",
       " \"The safety manager, Robert W. Schum, who left Moeves Plumbing with his son and formed his own company, said in a recent interview that his duties had actually involved ''very little safety.'' His main job, he explained, was managing the warehouse. Sometimes he would check toolboxes for frayed power cords. That was about it. In some two years as safety manager, he said, he could not recall giving any training on trench safety.\",\n",
       " 'The month after he left, Moeves Plumbing sent three supervisors to a training course on trench safety. Two of them -- including the field supervisor for all Moeves trench crews -- subsequently supervised the digging of the very trench that now so troubled Charles Shelton.',\n",
       " \"In his inspection report, Mr. Shelton wrote that he had recommended several immediate changes. Moeves Plumbing needed ''someone competent in trenching'' to train workers or ''at least to identify good and bad trenches and to provide trench protection and enforce compliance,'' he told a senior company official.\",\n",
       " \"His advice went unheeded. But the company's owner, Linda Moeves, did take one step. She called the OSHA director in Cincinnati, William M. Murphy, to complain.\",\n",
       " \"''She was agitated,'' Mr. Murphy recalled. Mr. Shelton had asked for records to show that she was training employees in trench safety and seeking to enforce safety rules. ''Why does he need to be asking to see these records?'' Mr. Murphy recalled her asking.\",\n",
       " \"He remembers telling her she would do well to show that she had trained her employees properly. ''And she said, 'You know that since that last case we've been trying to do the right thing.' ''\",\n",
       " 'Same Company, Another Death',\n",
       " 'Bill Murphy had not forgotten that last case, 13 years before.',\n",
       " \"Over more than two decades as the agency's chief in Cincinnati, Mr. Murphy had become a legendary figure within OSHA. He and his office had repeatedly received OSHA's highest awards for aggressive enforcement. His personal history gave him an appreciation for the lives of men like Patrick Walters. He was raised in Scott County, Tenn., one of the poorest counties in the country. The son of a coal miner and farmer who fathered 22 children, he was the first in his family to graduate from high school.\",\n",
       " \"''None of us are smart,'' Mr. Murphy, 61, said in an interview. ''We just work harder.''\",\n",
       " 'He knew about death on the job firsthand. One of his half brothers had been electrocuted on a power line; another had fallen to his death erecting steel decking. In one of his first jobs, in an aircraft plant, an explosion killed two men in his work area. Soon after, he went to work for OSHA.',\n",
       " \"When Mr. Shelton told him about the problems at Moeves Plumbing, Mr. Murphy's mind reeled back to 1989, to that last case and to how afterward Linda Moeves had pledged to do the right thing.\",\n",
       " 'Clint Daley, an inexperienced laborer just like Patrick Walters, had been digging a sewer line with a backhoe operator named Dan Callahan. The trench, 12 feet deep, was neither sloped nor shored. There was no trench box. Mr. Daley was in the trench when the walls cracked. Mr. Callahan shouted a warning.',\n",
       " \"''By the time he got turned around, it caved in,'' he said later in a deposition.\",\n",
       " \"What made Clint Daley's death particularly outrageous to Mr. Murphy was that his inspectors had three times before warned Moeves Plumbing's crews about trench safety -- in 1984, 1985 and 1986. They had issued safety pamphlets, and a $700 fine.\",\n",
       " 'Yet Moeves Plumbing had not bought any trench safety equipment. Nor had it provided any safety training, on trenches or anything else.',\n",
       " \"Mr. Murphy might have referred the Daley case to the Justice Department for prosecution. He had, after all, concluded that Clint Daley died because Moeves Plumbing willfully violated safety rules. But Mr. Murphy's response was tempered by his assessment of Linda Moeves.\",\n",
       " \"Her husband, the company's founder, had died in 1987, and though she had helped out in the office, it was not clear she had the skills to run a plumbing business. Her prior job was social director of a racket club.\",\n",
       " \"Mr. Murphy admired the way she had hung tough in the cutthroat contracting world. And when she was interviewed by OSHA about Mr. Daley's death, she pleaded ignorance -- about the prior OSHA warnings, about the $700 fine, even about there being federal safety rules for trenches.\",\n",
       " \"''She was too willing to trust her employees to do the right thing,'' Mr. Murphy said.\",\n",
       " 'Mrs. Moeves promised deep changes. She quickly enrolled in a trenching safety seminar. She bought hydraulic shoring equipment. She saw that her supervisors and backhoe crews learned trench safety. There would be regular safety meetings, a new safety director and a safety committee to correct hazards.',\n",
       " \"She also established a written safety policy. Trenches deeper than four feet would be sloped or shored ''as required by OSHA standards,'' the policy said. What's more, trenches would be inspected daily by either Mrs. Moeves or a field supervisor. Employees who broke the rules would be disciplined, and even fired after a fourth offense.\",\n",
       " 'Ultimately, Mr. Murphy fined Moeves Plumbing $13,700 for the violations that killed Mr. Daley.',\n",
       " 'Over the next three years, Moeves Plumbing was inspected five times and cited for seven relatively minor violations. Mr. Murphy concluded that Mrs. Moeves had learned a painful lesson.',\n",
       " \"Now, Mr. Shelton's inspection raised some pointed questions about the permanence of that lesson. Court records show that Moeves Plumbing's safety committee had not existed for years. Nor were there records of any trench inspections or of employees being disciplined for safety violations. Several Moeves workers said they could not recall Mrs. Moeves or her supervisors ever directing them to take precautions against trench collapses.\",\n",
       " \"''I was unpleasantly surprised,'' Mr. Murphy said. ''I had thought she had gotten her act together.''\",\n",
       " 'Wet, Deep and Deadly',\n",
       " \"About a week after Charles Shelton's inspection, Moeves Plumbing received a work order for a routine job running sewer and water lines into new homes about 40 miles north of Cincinnati.\",\n",
       " \"The job was assigned to John F. Kehrer, 49, an experienced backhoe operator. Patrick Walters typically worked as Mr. Kehrer's helper, doing the dirty work of laying, cutting and connecting pipes after Mr. Kehrer dug the trench. In a recent deposition given to lawyers for the Walters family, Mr. Kehrer described Patrick Walters as a hard worker who had never refused an instruction.\",\n",
       " 'On the first day of this job, though, Patrick Walters was unavailable. He had gone for treatment after being hit in the back by a backhoe bucket. A doctor prescribed painkillers and cleared him for work.',\n",
       " 'With another helper, Mr. Kehrer started to dig. In his deposition, he said seeping water had made him worried.',\n",
       " \"''It's never safe when there is water in there,'' he explained.\",\n",
       " \"''Why?''\",\n",
       " \"''Because everything is so unstable.''\",\n",
       " 'The trench was at least eight feet deep. Still, he said, they took no precautions.',\n",
       " 'Mr. Kehrer insisted in his deposition that he was not competent to assess the hazards. Yes, he had taken a 10-hour trench safety class with a prior employer. But he also said that he had forgotten most of what he learned, and had received no safety training in six years at Moeves Plumbing.',\n",
       " 'The next day, Mr. Kehrer returned to finish the job with Patrick Walters. There had been more rain overnight, a downpour that filled the trench. It took hours to pump the water out. Then he started to dig.',\n",
       " \"Moeves Plumbing's safety policy -- the one instituted after Clint Daley's death -- called for a field supervisor to inspect trenches daily. According to Mr. Kehrer, though, no supervisor inspected this trench.\",\n",
       " \"By early afternoon the trench was 10 feet deep. Its walls -- saturated with rainwater -- were neither shored nor sloped. There was no trench box, no ladder. It was time to cut a sewer pipe, the helper's job.\",\n",
       " \"Mr. Kehrer said he did not actually order Patrick Walters into the trench. ''He knew what to do,'' he said. But he acknowledged doing nothing to stop him, though he knew enough to recognize that the trench violated federal safety laws.\",\n",
       " \"''I just did not think anything was going to happen, plain and simple,'' he said.\",\n",
       " 'Mr. Kehrer told an investigator that he felt his backhoe start to shift. It slid toward the trench as the walls began to collapse. He barely had time to yell a warning.',\n",
       " 'In one great whoosh of mud, Patrick Walters was gone.',\n",
       " 'The Ingredients for a Prosecution',\n",
       " 'It took more than seven hours to dig out the body. He was found pitched forward at the waist, knees buckled, hands reaching upward. Charles Shelton was there.',\n",
       " \"''I can't believe it,'' Mr. Shelton would tell Mr. Murphy. ''I just talked to him.''\",\n",
       " \"Again, Mrs. Moeves pleaded ignorance. She told Mr. Shelton that no one had informed her that his inspection uncovered any safety flaws. ''I feel that we have a very good safety program,'' she added.\",\n",
       " 'The men from OSHA were unimpressed.',\n",
       " \"''Employees take their cues from the leaders of the company,'' Mr. Murphy said. And despite all Mrs. Moeves's promises, he added, ''here the leader of the company was not providing training, was not insisting that things be done the proper way.''\",\n",
       " 'What made these failures particularly egregious, Mr. Murphy believed, was that Moeves Plumbing should have known better, given how routinely it dug trenches. Mr. Shelton was not permitted to be interviewed for this article, but records show that he told a police officer that he was considering pushing for criminal charges.',\n",
       " 'His boss was, too.',\n",
       " \"Mr. Murphy had long felt that OSHA needed to do more to encourage criminal prosecution. If a company ''cheats on paying their taxes,'' he said, ''we will charge them with a felony. Why would we be afraid to do that if they take one of their employees' lives?''\",\n",
       " 'Over the years, he said, he had seen too many companies pay insignificant fines and keep on committing the same violations with the same results.',\n",
       " \"''You've got to put people in jail,'' he said.\",\n",
       " \"Yet there was a problem: ''Nobody in OSHA has ever really been interested in prosecuting these kinds of cases.''\",\n",
       " 'The reasons were complex -- scarce resources, fear of bad publicity, a collective belief that the Justice Department does not like these cases -- but the result, he said, was layer upon layer, year after year, of endless review.',\n",
       " 'And then there were the lawyers.',\n",
       " \"OSHA is not allowed to refer a case to Justice without approval from its own lawyers, who are Labor Department solicitors. Mr. Murphy was not alone in viewing the solicitors' office as a ''black hole'' -- where cases simply disappeared because the lawyers were too busy, too eager to settle or too intimidated, particularly if the employer was a powerful corporation.\",\n",
       " \"''The No. 1 problem in OSHA is you have to fight with your own people to prosecute these cases,'' he said, adding: ''Very few were taken up. Sometimes I'd know why. Sometimes I wouldn't.''\",\n",
       " \"But after 23 years, Mr. Murphy was adept at working the system to get his way. And in this case, the strategy was first to persuade the regional office in Chicago and the national office in Washington that Patrick Walters's death should be treated as a ''significant penalty'' case. In OSHA-speak, that meant the fines would be at least $100,000.\",\n",
       " \"If the case was deemed ''significant,'' he reasoned, there would be a better chance of referral to the Justice Department. Even this would take a real fight. But, he added, ''It was a rare thing that I went forward with what I believed to be a significant case and someone in regional or Washington decided not to concur.''\",\n",
       " \"One Family's Call to Action\",\n",
       " \"''One huge hurt as one big circle'' is how Patrick Walters's stepsister, Jeanie Menz, had put it.\",\n",
       " 'The family rallied around the goal of finding out who was responsible for what went wrong. Aunts, uncles, cousins, stepparents -- everyone pitched in.',\n",
       " \"On OSHA's Web site, Ms. Menz found the agency's fatality inspection procedures. One document caught their attention: ''Referral for Criminal Prosecution.''\",\n",
       " 'No one was quite sure how to proceed, though. They made lists of media contacts and legislators. They brainstormed lists of questions for possible witnesses. A contingent drove to the collapse site and spoke to construction workers, including some who had tried to save Patrick.',\n",
       " \"''Where did he die?'' his mother asked.\",\n",
       " \"''Right where you're standing, ma'am,'' came the reply.\",\n",
       " 'Crystal Walters wanted answers, too. Yet she also found herself quietly raging at her husband for setting aside all his fears and complaints and climbing into that trench.',\n",
       " \"''But he was young,'' she said, ''and he thought he was made of steel.''\",\n",
       " 'The family shared the sense that friends and neighbors did not understand the depth of their disgust and anger. Even in gestures of sympathy, people caused unintended hurt simply in the way they described his death: Act of God. Accident. Fate.',\n",
       " \"''My boy got killed is the way I put it,'' Jeff Walters said.\",\n",
       " \"No, he would say, Mrs. Moeves did not mean for his son to die. But neither does the guy who knocks back a bottle of booze, then goes for a spin and kills his neighbor's child. Either way, he insisted, death was a foreseeable result of reckless behavior. ''Any other way,'' he said, ''if somebody kills somebody they go to prison.''\",\n",
       " 'But who would hold Mrs. Moeves to account?',\n",
       " \"Sorting through Patrick Walters's belongings, they found Charles Shelton's business card. Jeff Walters called and left a message.\",\n",
       " 'On the Web, they discovered a support group called Fight, or Families in Grief Hold Together, founded by Ron Hayes, an Alabama man whose son was killed 10 years ago working in a corn silo.',\n",
       " \"Mr. Hayes is often brutal in his assessments of OSHA. (''Organized crime from top to bottom, son.'') But he also considers John L. Henshaw, the agency's administrator, a friend. Mr. Henshaw named him to the National Advisory Committee on Occupational Safety and Health.\",\n",
       " \"Mr. Hayes takes several calls a week from families reeling from a death on the job, wondering what to do next. On Aug. 1, 2002, the call came from Jeff Walters's second wife, Marian. By coincidence, Mr. Hayes was going to be in Cincinnati that week. He agreed to meet for dinner.\",\n",
       " 'Jeff Walters and Ron Hayes have equally vivid memories of that night. They met at a Chinese buffet and felt an instant bond. They were both plumbers. Both of their boys were named Pat, and both had died young. And both had been buried alive.',\n",
       " \"''You need a willful violation in this, Jeff,'' Mr. Hayes said that night. ''If you don't get the willful, then you don't get the Justice Department investigating.''\",\n",
       " 'Even so, he warned, the odds were long. OSHA classified only a tiny percentage of violations as willful, and far fewer were prosecuted. The family would have to be knowledgeable and absolutely determined.',\n",
       " \"Jeff Walters finally got through to Mr. Shelton. ''We need a willful violation against Linda Moeves,'' he recalled telling him. ''She's already killed one person. Now she's killed Patrick.''\",\n",
       " 'Mr. Shelton, he said, seemed to share some of his anger.',\n",
       " \"''I felt like there was a guy out there who was really trying to do his job.''\",\n",
       " 'A Shrinking Pool of Allies',\n",
       " 'That same month, though, the Walters family lost an important ally. Bill Murphy retired from OSHA on Aug. 2, 2002.',\n",
       " \"And there was a further complication: Linda Moeves's friendship with Richard T. Gilgrist, then one of three assistant area directors rotating through Mr. Murphy's job while a decision was made on a successor.\",\n",
       " \"Mr. Gilgrist's boss, the regional administrator in Chicago, Michael G. Connors, said in an interview that Mr. Gilgrist had called him after the inquiry was ''fairly well completed'' to discuss an ''unusual situation.''\",\n",
       " \"According to Mr. Connors, Mr. Gilgrist described what had happened and explained that while his office was planning to push for a ''significant penalty'' designation, it was recommending a willful violation only for the first incident, involving the 15-foot trench, not for Patrick Walters's death.\",\n",
       " \"But he also said that Mrs. Moeves was a neighbor, and so he was recusing himself from the case. ''I believe he absolutely pulled out of the case and did nothing on it after I talked with him,'' Mr. Connors said.\",\n",
       " \"Mr. Gilgrist's conflict alone, Mr. Connors said, raised something of a red flag. But he also found it ''unusual'' that the Cincinnati office ''would go willful on the nonfatality and then not see willful on the second case.''\",\n",
       " \"''I said send the cases up,'' he recalled.\",\n",
       " \"Mrs. Moeves, meanwhile, had hired Robert A. Dimling, the premier OSHA defense lawyer in town, a man well practiced at extricating clients from OSHA's crosshairs.\",\n",
       " \"One example of his savvy came not long after Mr. Murphy retired. The lawyer, who would not comment on the case, helped arrange for Mr. Murphy and Mrs. Moeves to meet over lunch, where Mr. Murphy offered ''to entertain the idea'' of helping Moeves Plumbing, Mr. Murphy recalled.\",\n",
       " \"For a $5,000 annual retainer, he could become Mrs. Moeves's OSHA consultant, training her employees and advising her on future matters, including inspections. Mr. Murphy said he made it clear that he could not help on the Walters case. But his reputation, he told her, could ensure that her company was ''well respected'' at OSHA.\",\n",
       " \"''In my view,'' he explained, ''this was a way to help fix the problems in a comprehensive way.''\",\n",
       " 'Mrs. Moeves agreed to consider the offer, he said, but she ultimately did not accept.',\n",
       " 'The Walters family began to detect a shift in tone from Mr. Shelton. He sounded defensive, Jeff Walters recalled, and suggested that OSHA might not recommend criminal charges. Mrs. Moeves, the inspector noted, was promising safety improvements.',\n",
       " \"The family pinned its hopes on Ron Hayes, who took the case directly to the top. In late August, he had lunch with John Henshaw, the OSHA chief, at the Alabama Governor's Safety and Health Conference.\",\n",
       " \"Mr. Hayes recalled handing Mr. Henshaw a folder with a photograph of Patrick Walters and documents about Moeves Plumbing. Mr. Hayes said he explained about Clint Daley's death, and about the OSHA inspection two weeks before Patrick Walters's death, and about how, from what he could tell, it pretty much looked as if a 22-year-old had been sent into a death trap.\",\n",
       " \"''He said, 'Ronnie, this is horrible,' '' Mr. Hayes recalled.\",\n",
       " \"''And I said, 'Yeah, John, and these are the people you need to prosecute. I'm depending on you to watch this one.' ''\",\n",
       " \"Mr. Hayes said he told Mr. Henshaw that the case was not just about the Walters family. The best way to stop other employers from doing the same thing, he argued, was to bring more prosecutions. Why not start with Moeves Plumbing? (''Asked him to make this happen -- this case is bad,'' Mr. Hayes would write in his daily log.)\",\n",
       " \"''I honestly begged,'' he said. ''I couldn't have done anything more than get down on my knees.''\",\n",
       " 'Mr. Henshaw did not commit himself, Mr. Hayes recalled. He suggested the family might have better luck with the local district attorney. Yet he also agreed to look into the matter, Mr. Hayes said.',\n",
       " \"Mr. Hayes left feeling optimistic. He viewed the OSHA bureaucracy as the main obstacle. So he had made an end run. ''How much higher can you get?'' he asked. ''I had such high hopes with John.''\",\n",
       " \"The Walters family did, too, especially after Mr. Henshaw wrote to Jeff Walters on Oct. 9, 2002, offering ''my heartfelt condolences'' and assuring him that OSHA was still investigating.\",\n",
       " \"''Given our mission of providing safer workplaces,'' he wrote, ''we feel each worker's death as a personal loss and tragedy.''\",\n",
       " 'Hanging Hopes on a Single Word',\n",
       " \"On Nov. 26, 2002, nearly six months after her husband's death, Crystal Walters received a letter from OSHA notifying her of the results of its investigation. She read it slowly, carefully, searching each paragraph, each line for one word: willful.\",\n",
       " \"OSHA actually issued two sets of violations -- one for the trench that killed Patrick Walters, one for the trench inspected two weeks before. In each case, Moeves Plumbing was assessed several serious safety violations for failing to train employees in trench safety and to ensure that trenches were inspected by a ''competent person.''\",\n",
       " 'Furthermore, OSHA found that Moeves Plumbing committed one willful violation at each trench by failing to provide protection against a collapse. It was exactly the same willful violation that had killed Clint Daley.',\n",
       " \"''We got the willful,'' Crystal Walters yelled over the phone to her father-in-law. ''Awesome.''\",\n",
       " 'In a flurry of calls, word spread through the entire family. The letter, they all believed, was vindication for their months of sleuthing, proof that what happened was not just some act of God. Now it was a matter of pressing OSHA to refer the case to the Justice Department, and then pressing the Justice Department to prosecute.',\n",
       " \"''We had everything that we needed,'' Jeff Walters said.\",\n",
       " 'The jubilation lasted all of one day.',\n",
       " \"It died in a four-page agreement signed on Nov. 27 by Mr. Dimling and the acting area director, Dennis A. Collins. In exchange for Moeves Plumbing's promise not to fight in court, OSHA agreed to one crucial change: The word ''willful'' was stricken from the violations in Patrick Walters's death.\",\n",
       " \"In its place, OSHA substituted the designation ''unclassified'' -- a term of art invented more than a decade ago by some of the nation's top corporate defense lawyers.\",\n",
       " \"Their clients resented the stigma -- not to mention the legal risks -- associated with being labeled a ''willful'' violator of federal safety laws. So the lawyers dangled a carrot: If OSHA would replace the pejorative ''willful'' with the nonjudgmental ''unclassified,'' their clients would pay higher fines and make substantial safety improvements.\",\n",
       " 'In recent years, though, OSHA has been less and less zealous about collecting those carrots. In the case of Moeves Plumbing, OSHA agreed to cut its fines 40 percent, from $90,000 to $54,000. Moeves Plumbing could pay in four annual installments, with the first not due for another year. It was not required to admit any wrongdoing.',\n",
       " 'It did, however, agree that employees working in trenches would complete a 30-hour OSHA training course. And it would hire a consultant to perform random trench checks for two years.',\n",
       " \"On her lawyer's advice, Linda Moeves canceled an interview for this article. But in a brief discussion with a reporter in her offices, she expressed sympathy for the Walters family and defended her company's safety practices. She said she knew that Patrick Walters's relatives had pushed hard for prosecution, and that OSHA had given strong consideration to a criminal referral.\",\n",
       " 'But no employer, she insisted, cares more about the welfare of her workers than she.',\n",
       " 'Anatomy of a Decision',\n",
       " \"It was heartbreaking and baffling all at once. No willful violation. No criminal referral. Just like that. Crystal Walters burst into tears. Michelle Marts did, too. They all had the same questions: How could it happen so fast? Why weren't their voices heard? Where was John Henshaw?\",\n",
       " \"''I got swept under the rug,'' Jeff Walters said. ''Like I'm not important.''\",\n",
       " \"It was a sickening feeling, they said, this sense that Linda Moeves had gotten away with it and that their government had been complicit. Why else drop the ''willful'' only on the violation that killed Patrick?\",\n",
       " \"Mrs. Marts remembers Crystal Walters reading her OSHA's brief form letter of explanation. ''It should be pointed out that the OSH Act contains no provisions allowing OSHA to impose greater penalties when accident or death is involved,'' it said.\",\n",
       " \"Yes, it was true that OSHA could not increase its civil fines just because someone died. But didn't the rules explicitly permit OSHA to ask the Justice Department to file criminal charges when death is involved?\",\n",
       " \"''We were both just dumbfounded,'' Mrs. Marts said. ''No explanation. No nothing.''\",\n",
       " 'Peeling back the layers is not easy.',\n",
       " 'Ed Frank, a Labor Department spokesman, said OSHA could not find any records related to its decision not to seek criminal charges against Moeves Plumbing. Among officials involved in the case, only Mr. Connors, the Chicago regional chief, was made available for an interview.',\n",
       " 'Still, from interviews with him and with the retired Mr. Murphy, as well as an examination of the available record, a much clearer -- and at the same time profoundly befuddling -- picture of what happened inside OSHA begins to emerge.',\n",
       " \"OSHA's final determination seems almost perverse. To begin with, the Chicago office would determine that the violations that killed Patrick Walters were more flagrant than Cincinnati thought -- yet would reduce the punishment. Stranger yet, Mrs. Moeves escaped a criminal referral not because of anything she did right, but because of something she did wrong.\",\n",
       " \"And in the end, OSHA would say that it had achieved ''a good solution'' by obtaining promises of additional vigilance and training -- the same promises Bill Murphy extracted after Clint Daley's death in 1989.\",\n",
       " \"When the Cincinnati office's formal recommendation came in, Mr. Connors said, it was much as Mr. Gilgrist had suggested that summer: it called for willful violations for Charles Shelton's first inspection only, on the ground that work had gone on under the noses of the two supervisors just trained in trench safety. Even so, the area office did recommend a ''significant penalty'' for both cases -- $101,500 -- which would have led to a review by Mr. Henshaw.\",\n",
       " 'Mr. Connors said that he and his assistants in Chicago disagreed with the Cincinnati office on both counts. First, they believed that the violations that killed Patrick Walters were indeed willful.',\n",
       " \"By law, a willful violation means the employer demonstrated either ''intentional disregard'' or ''plain indifference'' toward safety laws. Given the history -- indeed, the very recent history -- of trenching violations by Moeves Plumbing, Mr. Connors said he and his aides saw strong evidence of plain indifference, even if they could not prove that Mrs. Moeves was personally aware of the trench's unsafe conditions.\",\n",
       " 'Yet having decided that Moeves Plumbing had again killed a worker by willfully violating safety laws, the Chicago office decided that the case did not warrant a significant penalty. It reduced the proposed fine from $101,500 to $90,000. It also considered and rejected seeking a Justice Department review for possible prosecution.',\n",
       " \"Mr. Connors said he and his aides had argued long and hard to persuade the Cincinnati office that Patrick Walters's death warranted a willful violation. Wasn't he troubled, then, when the Cincinnati office, without his blessing, promptly dropped the willful designation in its settlement?\",\n",
       " \"''These are always a negotiation,'' he said.\",\n",
       " \"Recently, the Labor Department's top lawyer circulated a directive restating what he called a basic principle: ''special consideration'' should be given to referring cases ''where the employer's conduct is particularly egregious, such as where the employer has a history of similar violative conduct or of disregarding safety warnings.''\",\n",
       " \"Moeves Plumbing's history was considered, Mr. Connors said. But more important, he argued, was being able to show that Mrs. Moeves had ''specific knowledge'' that her men were working in an unsafe trench. Put another way, having censured Mrs. Moeves for violating a central principle of trench safety -- making sure the job was inspected and deemed safe -- OSHA then decided that she should be spared prosecution because that same failure meant she was not aware of the trench's perils.\",\n",
       " \"''The tragedy of this was it was clearly preventable,'' Mr. Connors said. ''Had the company followed the rules, this young man didn't have to die. And nobody feels good about that. We'd love to take it as far as we could and to somehow comfort the family. But I don't know there's anything that we had here that we could do that. And no, we don't feel good about that.''\",\n",
       " \"As for John Henshaw, he said in an interview that he had no role in deciding the case. He recalled Mr. Hayes showing him Patrick Walters's photograph at lunch, he said, but he did not remember Mr. Hayes laying out what had happened and beseeching him to refer the case to the Justice Department.\",\n",
       " \"His recollection, he said, was that Mr. Hayes, ''a friend of mine,'' asked him only to make sure Jeff Walters received a condolence letter. The Walters family did not realize it, but it was a form letter that had given them so much hope.\",\n",
       " \"''Ron may have been trying to tell me something,'' Mr. Henshaw said. ''But what I told him was that I don't get involved in these cases. These are done at the regional and area level.''\",\n",
       " 'Angry, Unsatisfied, Determined',\n",
       " \"Patrick Walters's family has a new plan.\",\n",
       " 'Step 1 is to use the civil courts to put Linda Moeves out of business. Step 2 is to use any money won from Moeves Plumbing to mount a campaign against OSHA.',\n",
       " \"''I'm going to take it, and I'm going to move to Washington and lobby against OSHA from now until the day I die,'' Jeff Walters, 47, said. ''I'm coming after them.''\",\n",
       " 'Their chances of winning are remote.',\n",
       " \"Ohio's workers' compensation laws broadly shield Moeves Plumbing from civil liability, even if its negligence caused Patrick Walters's death. To win the suit, filed in state court, the family must prove that Moeves Plumbing committed an ''intentional tort'' -- that it sent Patrick Walters into that trench knowing death or injury was ''substantially certain to occur.''\",\n",
       " \"Here again, OSHA's actions benefited Moeves Plumbing. By dropping that one willful designation, OSHA made it more difficult to prove an intentional tort.\",\n",
       " 'But Ron Hayes says there is no dissuading Jeff Walters from his plan.',\n",
       " \"''This man will be a bitter man for the rest of his life,'' he said. ''No. 1 because his son was killed. And No. 2 because his government betrayed him, and like so many others out there the anger just continues to build and build.''\",\n",
       " 'If her former husband is focused on changing the system, Mrs. Marts, 45, confesses that she is still battling fantasies of revenge. One involves Linda Moeves buried to her neck in mud. For months, Mrs. Marts has lived on the brink of breakdown.',\n",
       " 'What eats at her, she said, is that she cannot stop thinking about how her boy died. When she gets into an elevator, she holds her breath as long as she can. She imagines him under all that mud, holding his breath.',\n",
       " \"She still has not washed his pillow cases or his old clothes, clinging to his fading scent as long as she can. She listens often to his interview with Charles Shelton, to his smoker's cough and his nervous laugh. She visits the cemetery nearly every day, tidying up, rearranging the flowers.\",\n",
       " 'It was a lot of money, but after Patrick died the family agreed that his final resting place would have to be in a mausoleum, not six feet under.',\n",
       " \"''There's no way I was going to put him in the ground again,'' his mother said.\",\n",
       " 'When Workers Die',\n",
       " 'Articles in this series examine how the government deals with the worst cases of death on the job.',\n",
       " \"TODAY: The plumber's apprentice.\",\n",
       " 'MONDAY: A culture of caution.',\n",
       " 'TUESDAY: The California way.',\n",
       " 'Video and a slide show narrated by David Barstow are online at nytimes.com/national.']"
      ]
     },
     "execution_count": 159,
     "metadata": {},
     "output_type": "execute_result"
    }
   ],
   "source": [
    "DBarstow1_l"
   ]
  },
  {
   "cell_type": "code",
   "execution_count": null,
   "metadata": {},
   "outputs": [],
   "source": []
  }
 ],
 "metadata": {
  "kernelspec": {
   "display_name": "Python 3",
   "language": "python",
   "name": "python3"
  },
  "language_info": {
   "codemirror_mode": {
    "name": "ipython",
    "version": 3
   },
   "file_extension": ".py",
   "mimetype": "text/x-python",
   "name": "python",
   "nbconvert_exporter": "python",
   "pygments_lexer": "ipython3",
   "version": "3.7.1"
  }
 },
 "nbformat": 4,
 "nbformat_minor": 2
}
