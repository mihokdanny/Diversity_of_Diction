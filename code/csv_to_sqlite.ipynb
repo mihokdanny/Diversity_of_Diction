{
 "cells": [
  {
   "cell_type": "code",
   "execution_count": 1,
   "metadata": {},
   "outputs": [],
   "source": [
    "import pandas as pd\n",
    "import sqlite3\n",
    "\n",
    "# SQL Alchemy\n",
    "from sqlalchemy import create_engine"
   ]
  },
  {
   "cell_type": "code",
   "execution_count": 2,
   "metadata": {},
   "outputs": [],
   "source": [
    "#connect\n",
    "conn = sqlite3.connect('testDB.sqlite')"
   ]
  },
  {
   "cell_type": "code",
   "execution_count": 3,
   "metadata": {},
   "outputs": [],
   "source": [
    "#obtain a cursor - something to loop through via database connection\n",
    "cur = conn.cursor()"
   ]
  },
  {
   "cell_type": "code",
   "execution_count": 4,
   "metadata": {},
   "outputs": [],
   "source": [
    "read_word_data = pd.read_csv (r'all_word_data.csv')\n",
    "read_word_data.to_sql('WORDS', conn, if_exists='append', index = False) # Insert the values from the csv file into the table 'WORDS' "
   ]
  },
  {
   "cell_type": "code",
   "execution_count": 5,
   "metadata": {},
   "outputs": [],
   "source": [
    "read_word_data = pd.read_csv (r'all_word_data.csv')\n",
    "read_word_data.to_sql('WORDS', conn, if_exists='append', index = False) # Insert the values from the csv file into the table 'CLIENTS' "
   ]
  },
  {
   "cell_type": "code",
   "execution_count": 6,
   "metadata": {},
   "outputs": [],
   "source": [
    "# Query All Records in the the City Table\n",
    "word_data = pd.read_sql(\"SELECT * FROM WORDS\", conn)"
   ]
  },
  {
   "cell_type": "code",
   "execution_count": 7,
   "metadata": {},
   "outputs": [
    {
     "data": {
      "text/html": [
       "<div>\n",
       "<style scoped>\n",
       "    .dataframe tbody tr th:only-of-type {\n",
       "        vertical-align: middle;\n",
       "    }\n",
       "\n",
       "    .dataframe tbody tr th {\n",
       "        vertical-align: top;\n",
       "    }\n",
       "\n",
       "    .dataframe thead th {\n",
       "        text-align: right;\n",
       "    }\n",
       "</style>\n",
       "<table border=\"1\" class=\"dataframe\">\n",
       "  <thead>\n",
       "    <tr style=\"text-align: right;\">\n",
       "      <th></th>\n",
       "      <th>author_group</th>\n",
       "      <th>author</th>\n",
       "      <th>title</th>\n",
       "      <th>word</th>\n",
       "      <th>frequency</th>\n",
       "      <th>total_words_used</th>\n",
       "      <th>total_non_stop_words</th>\n",
       "      <th>total_unique_non_stop_words</th>\n",
       "    </tr>\n",
       "  </thead>\n",
       "  <tbody>\n",
       "    <tr>\n",
       "      <th>0</th>\n",
       "      <td>poets</td>\n",
       "      <td>Maya Angelou</td>\n",
       "      <td>Poet1_Poem1</td>\n",
       "      <td>pretty</td>\n",
       "      <td>1</td>\n",
       "      <td>277</td>\n",
       "      <td>109</td>\n",
       "      <td>88</td>\n",
       "    </tr>\n",
       "    <tr>\n",
       "      <th>1</th>\n",
       "      <td>poets</td>\n",
       "      <td>Maya Angelou</td>\n",
       "      <td>Poet1_Poem1</td>\n",
       "      <td>women</td>\n",
       "      <td>1</td>\n",
       "      <td>277</td>\n",
       "      <td>109</td>\n",
       "      <td>88</td>\n",
       "    </tr>\n",
       "    <tr>\n",
       "      <th>2</th>\n",
       "      <td>poets</td>\n",
       "      <td>Maya Angelou</td>\n",
       "      <td>Poet1_Poem1</td>\n",
       "      <td>wonder</td>\n",
       "      <td>1</td>\n",
       "      <td>277</td>\n",
       "      <td>109</td>\n",
       "      <td>88</td>\n",
       "    </tr>\n",
       "    <tr>\n",
       "      <th>3</th>\n",
       "      <td>poets</td>\n",
       "      <td>Maya Angelou</td>\n",
       "      <td>Poet1_Poem1</td>\n",
       "      <td>secret</td>\n",
       "      <td>1</td>\n",
       "      <td>277</td>\n",
       "      <td>109</td>\n",
       "      <td>88</td>\n",
       "    </tr>\n",
       "    <tr>\n",
       "      <th>4</th>\n",
       "      <td>poets</td>\n",
       "      <td>Maya Angelou</td>\n",
       "      <td>Poet1_Poem1</td>\n",
       "      <td>lies</td>\n",
       "      <td>2</td>\n",
       "      <td>277</td>\n",
       "      <td>109</td>\n",
       "      <td>88</td>\n",
       "    </tr>\n",
       "  </tbody>\n",
       "</table>\n",
       "</div>"
      ],
      "text/plain": [
       "  author_group        author        title    word  frequency  \\\n",
       "0        poets  Maya Angelou  Poet1_Poem1  pretty          1   \n",
       "1        poets  Maya Angelou  Poet1_Poem1   women          1   \n",
       "2        poets  Maya Angelou  Poet1_Poem1  wonder          1   \n",
       "3        poets  Maya Angelou  Poet1_Poem1  secret          1   \n",
       "4        poets  Maya Angelou  Poet1_Poem1    lies          2   \n",
       "\n",
       "   total_words_used  total_non_stop_words  total_unique_non_stop_words  \n",
       "0               277                   109                           88  \n",
       "1               277                   109                           88  \n",
       "2               277                   109                           88  \n",
       "3               277                   109                           88  \n",
       "4               277                   109                           88  "
      ]
     },
     "execution_count": 7,
     "metadata": {},
     "output_type": "execute_result"
    }
   ],
   "source": [
    "word_data.head()"
   ]
  },
  {
   "cell_type": "code",
   "execution_count": null,
   "metadata": {},
   "outputs": [],
   "source": []
  }
 ],
 "metadata": {
  "kernelspec": {
   "display_name": "Python 3",
   "language": "python",
   "name": "python3"
  },
  "language_info": {
   "codemirror_mode": {
    "name": "ipython",
    "version": 3
   },
   "file_extension": ".py",
   "mimetype": "text/x-python",
   "name": "python",
   "nbconvert_exporter": "python",
   "pygments_lexer": "ipython3",
   "version": "3.7.1"
  }
 },
 "nbformat": 4,
 "nbformat_minor": 2
}
